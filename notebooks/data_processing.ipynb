{
 "cells": [
  {
   "attachments": {},
   "cell_type": "markdown",
   "metadata": {},
   "source": [
    "#### Load Packages"
   ]
  },
  {
   "cell_type": "code",
   "execution_count": 1,
   "metadata": {},
   "outputs": [],
   "source": [
    "import os\n",
    "import pandas as pd\n",
    "from bs4 import BeautifulSoup"
   ]
  },
  {
   "attachments": {},
   "cell_type": "markdown",
   "metadata": {},
   "source": [
    "#### Load Annotated Data Practices\n",
    "\n",
    "* Read in the annotation CSV files that show the output of the annotators"
   ]
  },
  {
   "cell_type": "code",
   "execution_count": 2,
   "metadata": {},
   "outputs": [],
   "source": [
    "tmp_dir = '../opp-115/annotations/' # Point to the directory\n",
    "\n",
    "file_names = os.listdir(tmp_dir)    # Grab the file names\n",
    "\n",
    "# Read each file in as a list of DataFrames, then combine into master DataFrame\n",
    "annotated_data_practices = pd.concat(\n",
    "    [\n",
    "        pd.read_csv(\n",
    "            tmp_dir + file_name,\n",
    "            names=[\n",
    "                'annotation_id',\n",
    "                'batch_id',\n",
    "                'annotator_id',\n",
    "                'policy_id',\n",
    "                'segment_id',\n",
    "                'category_name',\n",
    "                'attribute_value_pairs',\n",
    "                'date',\n",
    "                'policy_url'\n",
    "            ],\n",
    "            index_col=False\n",
    "        ).assign(source=file_name)\n",
    "        for file_name in file_names\n",
    "    ]\n",
    "); del tmp_dir"
   ]
  },
  {
   "attachments": {},
   "cell_type": "markdown",
   "metadata": {},
   "source": [
    "#### Parse the Attributes to Flag Segments"
   ]
  },
  {
   "attachments": {},
   "cell_type": "markdown",
   "metadata": {},
   "source": [
    "##### 1. Segments Allowing Comapnies to Collect and Use Your Data\n",
    "\n",
    "Find the annotations marking the segments stating that the company will collect and use personal data on the user for the purposes of:\n",
    "* Advertising, \n",
    "* Marketing, \n",
    "* Future mergers and acquisitions\n",
    "* Any other miscellaneous or vague purposes\n",
    "    \n",
    "I decided to omit data collection for mandatory or \"good\" purposes for the user:\n",
    "\n",
    "* To facilitate basic and additional services/features\n",
    "* For analytics and research\n",
    "* To fulfill a legal requirement\n",
    "* For personalizing the user experience\n",
    "* For service operation and security"
   ]
  },
  {
   "cell_type": "code",
   "execution_count": 3,
   "metadata": {},
   "outputs": [
    {
     "data": {
      "text/plain": [
       "first_party_ads\n",
       "0    19311\n",
       "1     3883\n",
       "dtype: int64"
      ]
     },
     "execution_count": 3,
     "metadata": {},
     "output_type": "execute_result"
    }
   ],
   "source": [
    "first_party_col_use = annotated_data_practices.query('category_name==\"First Party Collection/Use\"')\n",
    "\n",
    "annotated_data_practices = annotated_data_practices.merge(\n",
    "    pd.DataFrame({\n",
    "        'annotation_id': first_party_col_use.annotation_id, \n",
    "        'first_party_ads': [\n",
    "            (eval(x)['Does/Does Not']['value'] == 'Does') &\n",
    "            (eval(x)['Purpose']['value'] in ['Advertising', 'Marketing', 'Merger/Acquisition', 'Other', 'Unspecified'])\n",
    "            for x in first_party_col_use.attribute_value_pairs\n",
    "        ]\n",
    "    }),\n",
    "    how='outer', on='annotation_id'\n",
    "); del first_party_col_use\n",
    "\n",
    "annotated_data_practices.first_party_ads = annotated_data_practices.first_party_ads.fillna(False).astype('int')\n",
    "\n",
    "annotated_data_practices.groupby('first_party_ads').size()\n"
   ]
  },
  {
   "attachments": {},
   "cell_type": "markdown",
   "metadata": {},
   "source": [
    "##### 2. Segments Allowing Companies to Share Your Data with Third Parties\n",
    "\n",
    "Find the annotations marking the segments stating that the company will share personal data with a third party, using the same purposes as above."
   ]
  },
  {
   "cell_type": "code",
   "execution_count": 4,
   "metadata": {},
   "outputs": [
    {
     "data": {
      "text/plain": [
       "bad_sharing\n",
       "0    20607\n",
       "1     2587\n",
       "dtype: int64"
      ]
     },
     "execution_count": 4,
     "metadata": {},
     "output_type": "execute_result"
    }
   ],
   "source": [
    "third_party_sharing = annotated_data_practices.query('category_name==\"Third Party Sharing/Collection\"')\n",
    "\n",
    "annotated_data_practices = annotated_data_practices.merge(\n",
    "    pd.DataFrame({\n",
    "        'annotation_id': third_party_sharing.annotation_id, \n",
    "        'bad_sharing': [\n",
    "            (eval(x)['Does/Does Not']['value'] == 'Does') &\n",
    "            (eval(x)['Purpose']['value'] in ['Advertising', 'Marketing', 'Merger/Acquisition', 'Other', 'Unspecified'])\n",
    "            for x in third_party_sharing.attribute_value_pairs\n",
    "        ]\n",
    "    }),\n",
    "    how='outer', on='annotation_id'\n",
    "); del third_party_sharing\n",
    "\n",
    "annotated_data_practices.bad_sharing = annotated_data_practices.bad_sharing.fillna(False).astype('int')\n",
    "\n",
    "annotated_data_practices.groupby('bad_sharing').size()"
   ]
  },
  {
   "attachments": {},
   "cell_type": "markdown",
   "metadata": {},
   "source": [
    "##### 3. Segments Notifying User of Choices Available to Them Re: First Party Data Collection and Use\n",
    "\n",
    "Find the annotations marking the segments notifying the user about choices or controls available to them about first party collection and use of their data (i.e., by the company itself)"
   ]
  },
  {
   "cell_type": "code",
   "execution_count": 5,
   "metadata": {},
   "outputs": [
    {
     "data": {
      "text/plain": [
       "first_party_choice\n",
       "0    22263\n",
       "1      931\n",
       "dtype: int64"
      ]
     },
     "execution_count": 5,
     "metadata": {},
     "output_type": "execute_result"
    }
   ],
   "source": [
    "user_choice = annotated_data_practices.query('category_name==\"User Choice/Control\"')\n",
    "\n",
    "annotated_data_practices = annotated_data_practices.merge(\n",
    "    pd.DataFrame({\n",
    "        'annotation_id': user_choice.annotation_id, \n",
    "        'first_party_choice': [\n",
    "            (eval(x)['Choice Scope']['value'] in ['First party collection', 'First party use'])\n",
    "            for x in user_choice.attribute_value_pairs\n",
    "        ]\n",
    "    }),\n",
    "    how='outer', on='annotation_id'\n",
    "); del user_choice\n",
    "\n",
    "annotated_data_practices.first_party_choice = annotated_data_practices.first_party_choice.fillna(False).astype('int')\n",
    "\n",
    "annotated_data_practices.groupby('first_party_choice').size()\n"
   ]
  },
  {
   "attachments": {},
   "cell_type": "markdown",
   "metadata": {},
   "source": [
    "##### 4. Segments Notifying User of Choices Available to Them Re: Third Party Data Sharing\n",
    "\n",
    "Find the annotations marking the segments notifying the user about choices or controls available to them about third party sharing of their data (e.g., shared with another another company, an affiliate, other users, the public)"
   ]
  },
  {
   "cell_type": "code",
   "execution_count": 6,
   "metadata": {},
   "outputs": [
    {
     "data": {
      "text/plain": [
       "third_party_choice\n",
       "0    22756\n",
       "1      438\n",
       "dtype: int64"
      ]
     },
     "execution_count": 6,
     "metadata": {},
     "output_type": "execute_result"
    }
   ],
   "source": [
    "user_choice = annotated_data_practices.query('category_name==\"User Choice/Control\"')\n",
    "\n",
    "annotated_data_practices = annotated_data_practices.merge(\n",
    "    pd.DataFrame({\n",
    "        'annotation_id': user_choice.annotation_id, \n",
    "        'third_party_choice': [\n",
    "            (eval(x)['Choice Scope']['value'] in ['Third party sharing/collection', 'Third party use'])\n",
    "            for x in user_choice.attribute_value_pairs\n",
    "        ]\n",
    "    }),\n",
    "    how='outer', on='annotation_id'\n",
    "); del user_choice\n",
    "\n",
    "annotated_data_practices.third_party_choice = annotated_data_practices.third_party_choice.fillna(False).astype('int')\n",
    "\n",
    "annotated_data_practices.groupby('third_party_choice').size()"
   ]
  },
  {
   "attachments": {},
   "cell_type": "markdown",
   "metadata": {},
   "source": [
    "#### Aggregate the Data Using Majority Vote (i.e., Agreement between at least 2 Annotators)\n",
    "\n",
    "Each privacy policy was reviewed by 3 annotators, and the paper suggests treating the agreement of at least 2 as indicating the validity of a flag being applied to a particular segment"
   ]
  },
  {
   "cell_type": "code",
   "execution_count": 7,
   "metadata": {},
   "outputs": [],
   "source": [
    "consensus = (\n",
    "    annotated_data_practices[['policy_id', 'segment_id', 'annotator_id', 'first_party_ads', 'bad_sharing', 'first_party_choice', 'third_party_choice']]\n",
    "    .drop_duplicates()\n",
    "    .drop('annotator_id', axis=1)\n",
    "    .groupby(['policy_id', 'segment_id'])\n",
    "    .sum()\n",
    "    .apply(lambda var: (var >= 2).astype('int'))\n",
    "    .reset_index()\n",
    ")"
   ]
  },
  {
   "attachments": {},
   "cell_type": "markdown",
   "metadata": {},
   "source": [
    "#### Parse the Text of the Policies\n",
    "\n",
    "The actual text of the policies have been sanitized, given delimiters between segments, and saved locally as HTML files. Here, I read them in and parse them into its predefined segments."
   ]
  },
  {
   "cell_type": "code",
   "execution_count": 8,
   "metadata": {},
   "outputs": [
    {
     "name": "stderr",
     "output_type": "stream",
     "text": [
      "C:\\Users\\chase\\AppData\\Local\\Temp\\ipykernel_141572\\4049832925.py:12: FutureWarning: The default value of regex will change from True to False in a future version.\n",
      "  annotated_data_practices[['policy_id', 'source']].drop_duplicates().assign(source = lambda df: df.source.str.replace('.csv', '')),\n"
     ]
    }
   ],
   "source": [
    "tmp_dir = '../opp-115/sanitized_policies/'\n",
    "\n",
    "file_names = os.listdir(tmp_dir)\n",
    "\n",
    "segment_texts = [None] * len(file_names)\n",
    "\n",
    "for i in range(len(file_names)):\n",
    "    with open(tmp_dir + file_names[i], 'r') as html:\n",
    "        segment_texts[i] = pd.DataFrame(BeautifulSoup(html, 'html.parser').get_text().split('|||'), columns=['segment_text']).reset_index(drop=False, names='segment_id').assign(source = file_names[i].replace('.html', ''))\n",
    "\n",
    "segment_texts = pd.concat(segment_texts).merge(\n",
    "    annotated_data_practices[['policy_id', 'source']].drop_duplicates().assign(source = lambda df: df.source.str.replace('.csv', '')), \n",
    "    on='source'\n",
    ").drop(['source'], axis=1)[['policy_id', 'segment_id', 'segment_text']].sort_values(['policy_id', 'segment_id'])"
   ]
  },
  {
   "attachments": {},
   "cell_type": "markdown",
   "metadata": {},
   "source": [
    "Let's clean the data by stripping any whitespace at the start or end of string and converting everything to lowercase"
   ]
  },
  {
   "cell_type": "code",
   "execution_count": 9,
   "metadata": {},
   "outputs": [],
   "source": [
    "segment_texts.segment_text = segment_texts.segment_text.str.strip()"
   ]
  },
  {
   "cell_type": "code",
   "execution_count": 10,
   "metadata": {},
   "outputs": [
    {
     "data": {
      "text/html": [
       "<div>\n",
       "<style scoped>\n",
       "    .dataframe tbody tr th:only-of-type {\n",
       "        vertical-align: middle;\n",
       "    }\n",
       "\n",
       "    .dataframe tbody tr th {\n",
       "        vertical-align: top;\n",
       "    }\n",
       "\n",
       "    .dataframe thead th {\n",
       "        text-align: right;\n",
       "    }\n",
       "</style>\n",
       "<table border=\"1\" class=\"dataframe\">\n",
       "  <thead>\n",
       "    <tr style=\"text-align: right;\">\n",
       "      <th></th>\n",
       "      <th>policy_id</th>\n",
       "      <th>segment_id</th>\n",
       "      <th>segment_text</th>\n",
       "    </tr>\n",
       "  </thead>\n",
       "  <tbody>\n",
       "    <tr>\n",
       "      <th>1955</th>\n",
       "      <td>3621</td>\n",
       "      <td>0</td>\n",
       "      <td>reddit privacy policy     effective Apr 14, 20...</td>\n",
       "    </tr>\n",
       "    <tr>\n",
       "      <th>1956</th>\n",
       "      <td>3621</td>\n",
       "      <td>1</td>\n",
       "      <td>here's how we manage and use your data.   We t...</td>\n",
       "    </tr>\n",
       "    <tr>\n",
       "      <th>1957</th>\n",
       "      <td>3621</td>\n",
       "      <td>2</td>\n",
       "      <td>Please read this Privacy Policy carefully. You...</td>\n",
       "    </tr>\n",
       "    <tr>\n",
       "      <th>1958</th>\n",
       "      <td>3621</td>\n",
       "      <td>3</td>\n",
       "      <td>about this policy    reddit is an open platfor...</td>\n",
       "    </tr>\n",
       "    <tr>\n",
       "      <th>1959</th>\n",
       "      <td>3621</td>\n",
       "      <td>4</td>\n",
       "      <td>We do take efforts to make sure the platform k...</td>\n",
       "    </tr>\n",
       "    <tr>\n",
       "      <th>...</th>\n",
       "      <td>...</td>\n",
       "      <td>...</td>\n",
       "      <td>...</td>\n",
       "    </tr>\n",
       "    <tr>\n",
       "      <th>3481</th>\n",
       "      <td>3908</td>\n",
       "      <td>6</td>\n",
       "      <td>Review Your Child's Data and Security Sally Ri...</td>\n",
       "    </tr>\n",
       "    <tr>\n",
       "      <th>3482</th>\n",
       "      <td>3908</td>\n",
       "      <td>7</td>\n",
       "      <td>To (a) initiate a review of your son's or daug...</td>\n",
       "    </tr>\n",
       "    <tr>\n",
       "      <th>3483</th>\n",
       "      <td>3908</td>\n",
       "      <td>8</td>\n",
       "      <td>To protect your daughter's or son's privacy an...</td>\n",
       "    </tr>\n",
       "    <tr>\n",
       "      <th>3484</th>\n",
       "      <td>3908</td>\n",
       "      <td>9</td>\n",
       "      <td>Sally Ride Science has taken steps to ensure t...</td>\n",
       "    </tr>\n",
       "    <tr>\n",
       "      <th>3485</th>\n",
       "      <td>3908</td>\n",
       "      <td>10</td>\n",
       "      <td>If you have any questions, comments or concern...</td>\n",
       "    </tr>\n",
       "  </tbody>\n",
       "</table>\n",
       "<p>3792 rows × 3 columns</p>\n",
       "</div>"
      ],
      "text/plain": [
       "      policy_id  segment_id                                       segment_text\n",
       "1955       3621           0  reddit privacy policy     effective Apr 14, 20...\n",
       "1956       3621           1  here's how we manage and use your data.   We t...\n",
       "1957       3621           2  Please read this Privacy Policy carefully. You...\n",
       "1958       3621           3  about this policy    reddit is an open platfor...\n",
       "1959       3621           4  We do take efforts to make sure the platform k...\n",
       "...         ...         ...                                                ...\n",
       "3481       3908           6  Review Your Child's Data and Security Sally Ri...\n",
       "3482       3908           7  To (a) initiate a review of your son's or daug...\n",
       "3483       3908           8  To protect your daughter's or son's privacy an...\n",
       "3484       3908           9  Sally Ride Science has taken steps to ensure t...\n",
       "3485       3908          10  If you have any questions, comments or concern...\n",
       "\n",
       "[3792 rows x 3 columns]"
      ]
     },
     "execution_count": 10,
     "metadata": {},
     "output_type": "execute_result"
    }
   ],
   "source": [
    "segment_texts"
   ]
  },
  {
   "attachments": {},
   "cell_type": "markdown",
   "metadata": {},
   "source": [
    "#### Merge the Annotation Flags with the Segments"
   ]
  },
  {
   "cell_type": "code",
   "execution_count": 11,
   "metadata": {},
   "outputs": [],
   "source": [
    "data = segment_texts.merge(consensus)"
   ]
  },
  {
   "cell_type": "code",
   "execution_count": 12,
   "metadata": {},
   "outputs": [
    {
     "data": {
      "text/html": [
       "<div>\n",
       "<style scoped>\n",
       "    .dataframe tbody tr th:only-of-type {\n",
       "        vertical-align: middle;\n",
       "    }\n",
       "\n",
       "    .dataframe tbody tr th {\n",
       "        vertical-align: top;\n",
       "    }\n",
       "\n",
       "    .dataframe thead th {\n",
       "        text-align: right;\n",
       "    }\n",
       "</style>\n",
       "<table border=\"1\" class=\"dataframe\">\n",
       "  <thead>\n",
       "    <tr style=\"text-align: right;\">\n",
       "      <th></th>\n",
       "      <th>policy_id</th>\n",
       "      <th>segment_id</th>\n",
       "      <th>segment_text</th>\n",
       "      <th>first_party_ads</th>\n",
       "      <th>bad_sharing</th>\n",
       "      <th>first_party_choice</th>\n",
       "      <th>third_party_choice</th>\n",
       "    </tr>\n",
       "  </thead>\n",
       "  <tbody>\n",
       "    <tr>\n",
       "      <th>0</th>\n",
       "      <td>3621</td>\n",
       "      <td>0</td>\n",
       "      <td>reddit privacy policy     effective Apr 14, 20...</td>\n",
       "      <td>0</td>\n",
       "      <td>0</td>\n",
       "      <td>0</td>\n",
       "      <td>0</td>\n",
       "    </tr>\n",
       "    <tr>\n",
       "      <th>1</th>\n",
       "      <td>3621</td>\n",
       "      <td>1</td>\n",
       "      <td>here's how we manage and use your data.   We t...</td>\n",
       "      <td>0</td>\n",
       "      <td>0</td>\n",
       "      <td>0</td>\n",
       "      <td>0</td>\n",
       "    </tr>\n",
       "    <tr>\n",
       "      <th>2</th>\n",
       "      <td>3621</td>\n",
       "      <td>2</td>\n",
       "      <td>Please read this Privacy Policy carefully. You...</td>\n",
       "      <td>0</td>\n",
       "      <td>0</td>\n",
       "      <td>0</td>\n",
       "      <td>0</td>\n",
       "    </tr>\n",
       "    <tr>\n",
       "      <th>3</th>\n",
       "      <td>3621</td>\n",
       "      <td>3</td>\n",
       "      <td>about this policy    reddit is an open platfor...</td>\n",
       "      <td>0</td>\n",
       "      <td>0</td>\n",
       "      <td>0</td>\n",
       "      <td>0</td>\n",
       "    </tr>\n",
       "    <tr>\n",
       "      <th>4</th>\n",
       "      <td>3621</td>\n",
       "      <td>4</td>\n",
       "      <td>We do take efforts to make sure the platform k...</td>\n",
       "      <td>0</td>\n",
       "      <td>0</td>\n",
       "      <td>0</td>\n",
       "      <td>0</td>\n",
       "    </tr>\n",
       "    <tr>\n",
       "      <th>...</th>\n",
       "      <td>...</td>\n",
       "      <td>...</td>\n",
       "      <td>...</td>\n",
       "      <td>...</td>\n",
       "      <td>...</td>\n",
       "      <td>...</td>\n",
       "      <td>...</td>\n",
       "    </tr>\n",
       "    <tr>\n",
       "      <th>3787</th>\n",
       "      <td>3908</td>\n",
       "      <td>6</td>\n",
       "      <td>Review Your Child's Data and Security Sally Ri...</td>\n",
       "      <td>0</td>\n",
       "      <td>0</td>\n",
       "      <td>1</td>\n",
       "      <td>0</td>\n",
       "    </tr>\n",
       "    <tr>\n",
       "      <th>3788</th>\n",
       "      <td>3908</td>\n",
       "      <td>7</td>\n",
       "      <td>To (a) initiate a review of your son's or daug...</td>\n",
       "      <td>0</td>\n",
       "      <td>0</td>\n",
       "      <td>1</td>\n",
       "      <td>0</td>\n",
       "    </tr>\n",
       "    <tr>\n",
       "      <th>3789</th>\n",
       "      <td>3908</td>\n",
       "      <td>8</td>\n",
       "      <td>To protect your daughter's or son's privacy an...</td>\n",
       "      <td>0</td>\n",
       "      <td>0</td>\n",
       "      <td>0</td>\n",
       "      <td>0</td>\n",
       "    </tr>\n",
       "    <tr>\n",
       "      <th>3790</th>\n",
       "      <td>3908</td>\n",
       "      <td>9</td>\n",
       "      <td>Sally Ride Science has taken steps to ensure t...</td>\n",
       "      <td>0</td>\n",
       "      <td>0</td>\n",
       "      <td>0</td>\n",
       "      <td>0</td>\n",
       "    </tr>\n",
       "    <tr>\n",
       "      <th>3791</th>\n",
       "      <td>3908</td>\n",
       "      <td>10</td>\n",
       "      <td>If you have any questions, comments or concern...</td>\n",
       "      <td>0</td>\n",
       "      <td>0</td>\n",
       "      <td>0</td>\n",
       "      <td>0</td>\n",
       "    </tr>\n",
       "  </tbody>\n",
       "</table>\n",
       "<p>3792 rows × 7 columns</p>\n",
       "</div>"
      ],
      "text/plain": [
       "      policy_id  segment_id  \\\n",
       "0          3621           0   \n",
       "1          3621           1   \n",
       "2          3621           2   \n",
       "3          3621           3   \n",
       "4          3621           4   \n",
       "...         ...         ...   \n",
       "3787       3908           6   \n",
       "3788       3908           7   \n",
       "3789       3908           8   \n",
       "3790       3908           9   \n",
       "3791       3908          10   \n",
       "\n",
       "                                           segment_text  first_party_ads  \\\n",
       "0     reddit privacy policy     effective Apr 14, 20...                0   \n",
       "1     here's how we manage and use your data.   We t...                0   \n",
       "2     Please read this Privacy Policy carefully. You...                0   \n",
       "3     about this policy    reddit is an open platfor...                0   \n",
       "4     We do take efforts to make sure the platform k...                0   \n",
       "...                                                 ...              ...   \n",
       "3787  Review Your Child's Data and Security Sally Ri...                0   \n",
       "3788  To (a) initiate a review of your son's or daug...                0   \n",
       "3789  To protect your daughter's or son's privacy an...                0   \n",
       "3790  Sally Ride Science has taken steps to ensure t...                0   \n",
       "3791  If you have any questions, comments or concern...                0   \n",
       "\n",
       "      bad_sharing  first_party_choice  third_party_choice  \n",
       "0               0                   0                   0  \n",
       "1               0                   0                   0  \n",
       "2               0                   0                   0  \n",
       "3               0                   0                   0  \n",
       "4               0                   0                   0  \n",
       "...           ...                 ...                 ...  \n",
       "3787            0                   1                   0  \n",
       "3788            0                   1                   0  \n",
       "3789            0                   0                   0  \n",
       "3790            0                   0                   0  \n",
       "3791            0                   0                   0  \n",
       "\n",
       "[3792 rows x 7 columns]"
      ]
     },
     "execution_count": 12,
     "metadata": {},
     "output_type": "execute_result"
    }
   ],
   "source": [
    "data"
   ]
  },
  {
   "attachments": {},
   "cell_type": "markdown",
   "metadata": {},
   "source": [
    "#### Export the Data"
   ]
  },
  {
   "cell_type": "code",
   "execution_count": 13,
   "metadata": {},
   "outputs": [],
   "source": [
    "data.to_csv('../data.csv', index=False)"
   ]
  }
 ],
 "metadata": {
  "kernelspec": {
   "display_name": "w266-final-project",
   "language": "python",
   "name": "python3"
  },
  "language_info": {
   "codemirror_mode": {
    "name": "ipython",
    "version": 3
   },
   "file_extension": ".py",
   "mimetype": "text/x-python",
   "name": "python",
   "nbconvert_exporter": "python",
   "pygments_lexer": "ipython3",
   "version": "3.9.16"
  },
  "orig_nbformat": 4,
  "vscode": {
   "interpreter": {
    "hash": "938dc5dccd515e9e412c723d4d2aec2e6c68b41898c3e547a2ba56d6b8392f6a"
   }
  }
 },
 "nbformat": 4,
 "nbformat_minor": 2
}
